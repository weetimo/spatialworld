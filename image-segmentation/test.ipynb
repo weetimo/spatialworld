{
 "cells": [
  {
   "cell_type": "code",
   "execution_count": 1,
   "metadata": {},
   "outputs": [
    {
     "name": "stdout",
     "output_type": "stream",
     "text": [
      "Cloning into 'FastSAM'...\n",
      "remote: Enumerating objects: 1329, done.\u001b[K\n",
      "remote: Counting objects: 100% (401/401), done.\u001b[K\n",
      "remote: Compressing objects: 100% (94/94), done.\u001b[K\n",
      "remote: Total 1329 (delta 346), reused 307 (delta 307), pack-reused 928 (from 1)\u001b[K\n",
      "Receiving objects: 100% (1329/1329), 72.56 MiB | 16.96 MiB/s, done.\n",
      "Resolving deltas: 100% (542/542), done.\n",
      "Collecting matplotlib>=3.2.2\n",
      "  Downloading matplotlib-3.7.5-cp38-cp38-macosx_10_12_x86_64.whl (7.4 MB)\n",
      "\u001b[K     |████████████████████████████████| 7.4 MB 6.6 MB/s eta 0:00:01\n",
      "\u001b[?25hCollecting opencv-python>=4.6.0\n",
      "  Downloading opencv-python-4.10.0.84.tar.gz (95.1 MB)\n",
      "\u001b[K     |████████████████████████████████| 95.1 MB 9.4 MB/s eta 0:00:014     |██████▊                         | 20.0 MB 76.5 MB/s eta 0:00:01     |██████████████████████          | 65.6 MB 8.5 MB/s eta 0:00:04\n",
      "\u001b[?25h  Installing build dependencies ... \u001b[?25lerror\n",
      "\u001b[31m  ERROR: Command errored out with exit status 1:\n",
      "   command: /Library/Frameworks/Python.framework/Versions/3.8/bin/python3.8 /Library/Frameworks/Python.framework/Versions/3.8/lib/python3.8/site-packages/pip install --ignore-installed --no-user --prefix /private/var/folders/bk/z1yb9j_92y7gvv05gbf0d8vw0000gn/T/pip-build-env-edoijb0r/overlay --no-warn-script-location --no-binary :none: --only-binary :none: -i https://pypi.org/simple -- 'cmake>=3.1' 'numpy==1.13.3; python_version=='\"'\"'3.6'\"'\"' and platform_machine != '\"'\"'aarch64'\"'\"' and platform_machine != '\"'\"'arm64'\"'\"'' 'numpy==1.17.0; python_version=='\"'\"'3.7'\"'\"' and platform_machine != '\"'\"'aarch64'\"'\"' and platform_machine != '\"'\"'arm64'\"'\"'' 'numpy==1.17.5; python_version=='\"'\"'3.8'\"'\"' and platform_machine != '\"'\"'aarch64'\"'\"' and platform_machine != '\"'\"'arm64'\"'\"'' 'numpy==1.19.3; python_version<'\"'\"'3.9'\"'\"' and sys_platform == '\"'\"'linux'\"'\"' and platform_machine == '\"'\"'aarch64'\"'\"'' 'numpy==1.21.0; python_version<'\"'\"'3.9'\"'\"' and sys_platform == '\"'\"'darwin'\"'\"' and platform_machine == '\"'\"'arm64'\"'\"'' 'numpy>=2.0.0;  python_version>='\"'\"'3.9'\"'\"'' pip 'scikit-build>=0.14.0' setuptools==59.2.0\n",
      "       cwd: None\n",
      "  Complete output (52 lines):\n",
      "  Ignoring numpy: markers 'python_version == \"3.6\" and platform_machine != \"aarch64\" and platform_machine != \"arm64\"' don't match your environment\n",
      "  Ignoring numpy: markers 'python_version == \"3.7\" and platform_machine != \"aarch64\" and platform_machine != \"arm64\"' don't match your environment\n",
      "  Ignoring numpy: markers 'python_version < \"3.9\" and sys_platform == \"linux\" and platform_machine == \"aarch64\"' don't match your environment\n",
      "  Ignoring numpy: markers 'python_version < \"3.9\" and sys_platform == \"darwin\" and platform_machine == \"arm64\"' don't match your environment\n",
      "  Ignoring numpy: markers 'python_version >= \"3.9\"' don't match your environment\n",
      "  Collecting cmake>=3.1\n",
      "    Downloading cmake-3.30.4.tar.gz (31 kB)\n",
      "    Installing build dependencies: started\n",
      "    Installing build dependencies: finished with status 'done'\n",
      "    Getting requirements to build wheel: started\n",
      "    Getting requirements to build wheel: finished with status 'done'\n",
      "    Installing backend dependencies: started\n",
      "    Installing backend dependencies: finished with status 'error'\n",
      "    ERROR: Command errored out with exit status 2:\n",
      "     command: /Library/Frameworks/Python.framework/Versions/3.8/bin/python3.8 /Library/Frameworks/Python.framework/Versions/3.8/lib/python3.8/site-packages/pip install --ignore-installed --no-user --prefix /private/var/folders/bk/z1yb9j_92y7gvv05gbf0d8vw0000gn/T/pip-build-env-pmgltstp/normal --no-warn-script-location --no-binary :none: --only-binary :none: -i https://pypi.org/simple -- 'ninja>=1.5' cmake\n",
      "         cwd: None\n",
      "    Complete output (31 lines):\n",
      "    Collecting ninja>=1.5\n",
      "      Downloading ninja-1.11.1.1-py2.py3-none-macosx_10_9_universal2.macosx_10_9_x86_64.macosx_11_0_arm64.macosx_11_0_universal2.whl (270 kB)\n",
      "    Collecting cmake\n",
      "      Using cached cmake-3.30.4.tar.gz (31 kB)\n",
      "    ERROR: Exception:\n",
      "    Traceback (most recent call last):\n",
      "      File \"/Library/Frameworks/Python.framework/Versions/3.8/lib/python3.8/site-packages/pip/_internal/cli/base_command.py\", line 228, in _main\n",
      "        status = self.run(options, args)\n",
      "      File \"/Library/Frameworks/Python.framework/Versions/3.8/lib/python3.8/site-packages/pip/_internal/cli/req_command.py\", line 182, in wrapper\n",
      "        return func(self, options, args)\n",
      "      File \"/Library/Frameworks/Python.framework/Versions/3.8/lib/python3.8/site-packages/pip/_internal/commands/install.py\", line 323, in run\n",
      "        requirement_set = resolver.resolve(\n",
      "      File \"/Library/Frameworks/Python.framework/Versions/3.8/lib/python3.8/site-packages/pip/_internal/resolution/legacy/resolver.py\", line 183, in resolve\n",
      "        discovered_reqs.extend(self._resolve_one(requirement_set, req))\n",
      "      File \"/Library/Frameworks/Python.framework/Versions/3.8/lib/python3.8/site-packages/pip/_internal/resolution/legacy/resolver.py\", line 388, in _resolve_one\n",
      "        abstract_dist = self._get_abstract_dist_for(req_to_install)\n",
      "      File \"/Library/Frameworks/Python.framework/Versions/3.8/lib/python3.8/site-packages/pip/_internal/resolution/legacy/resolver.py\", line 340, in _get_abstract_dist_for\n",
      "        abstract_dist = self.preparer.prepare_linked_requirement(req)\n",
      "      File \"/Library/Frameworks/Python.framework/Versions/3.8/lib/python3.8/site-packages/pip/_internal/operations/prepare.py\", line 482, in prepare_linked_requirement\n",
      "        abstract_dist = _get_prepared_distribution(\n",
      "      File \"/Library/Frameworks/Python.framework/Versions/3.8/lib/python3.8/site-packages/pip/_internal/operations/prepare.py\", line 90, in _get_prepared_distribution\n",
      "        with req_tracker.track(req):\n",
      "      File \"/Library/Frameworks/Python.framework/Versions/3.8/lib/python3.8/contextlib.py\", line 113, in __enter__\n",
      "        return next(self.gen)\n",
      "      File \"/Library/Frameworks/Python.framework/Versions/3.8/lib/python3.8/site-packages/pip/_internal/req/req_tracker.py\", line 148, in track\n",
      "        self.add(req)\n",
      "      File \"/Library/Frameworks/Python.framework/Versions/3.8/lib/python3.8/site-packages/pip/_internal/req/req_tracker.py\", line 114, in add\n",
      "        raise LookupError(message)\n",
      "    LookupError: https://files.pythonhosted.org/packages/59/17/583aa5d3e91b26fe778941be92d3d05cc823553410e294b4b72c48b832a0/cmake-3.30.4.tar.gz#sha256=fedd88495e742a1316078c283c2b4c2eeac4c34eca3234401d28f09ee58a320f (from https://pypi.org/simple/cmake/) (requires-python:>=3.7) is already being built: cmake>=3.1 from https://files.pythonhosted.org/packages/59/17/583aa5d3e91b26fe778941be92d3d05cc823553410e294b4b72c48b832a0/cmake-3.30.4.tar.gz#sha256=fedd88495e742a1316078c283c2b4c2eeac4c34eca3234401d28f09ee58a320f\n",
      "    WARNING: You are using pip version 20.2.3; however, version 24.2 is available.\n",
      "    You should consider upgrading via the '/Library/Frameworks/Python.framework/Versions/3.8/bin/python3.8 -m pip install --upgrade pip' command.\n",
      "    ----------------------------------------\n",
      "  ERROR: Command errored out with exit status 2: /Library/Frameworks/Python.framework/Versions/3.8/bin/python3.8 /Library/Frameworks/Python.framework/Versions/3.8/lib/python3.8/site-packages/pip install --ignore-installed --no-user --prefix /private/var/folders/bk/z1yb9j_92y7gvv05gbf0d8vw0000gn/T/pip-build-env-pmgltstp/normal --no-warn-script-location --no-binary :none: --only-binary :none: -i https://pypi.org/simple -- 'ninja>=1.5' cmake Check the logs for full command output.\n",
      "  WARNING: You are using pip version 20.2.3; however, version 24.2 is available.\n",
      "  You should consider upgrading via the '/Library/Frameworks/Python.framework/Versions/3.8/bin/python3.8 -m pip install --upgrade pip' command.\n",
      "  ----------------------------------------\u001b[0m\n",
      "\u001b[?25h\u001b[31mERROR: Command errored out with exit status 1: /Library/Frameworks/Python.framework/Versions/3.8/bin/python3.8 /Library/Frameworks/Python.framework/Versions/3.8/lib/python3.8/site-packages/pip install --ignore-installed --no-user --prefix /private/var/folders/bk/z1yb9j_92y7gvv05gbf0d8vw0000gn/T/pip-build-env-edoijb0r/overlay --no-warn-script-location --no-binary :none: --only-binary :none: -i https://pypi.org/simple -- 'cmake>=3.1' 'numpy==1.13.3; python_version=='\"'\"'3.6'\"'\"' and platform_machine != '\"'\"'aarch64'\"'\"' and platform_machine != '\"'\"'arm64'\"'\"'' 'numpy==1.17.0; python_version=='\"'\"'3.7'\"'\"' and platform_machine != '\"'\"'aarch64'\"'\"' and platform_machine != '\"'\"'arm64'\"'\"'' 'numpy==1.17.5; python_version=='\"'\"'3.8'\"'\"' and platform_machine != '\"'\"'aarch64'\"'\"' and platform_machine != '\"'\"'arm64'\"'\"'' 'numpy==1.19.3; python_version<'\"'\"'3.9'\"'\"' and sys_platform == '\"'\"'linux'\"'\"' and platform_machine == '\"'\"'aarch64'\"'\"'' 'numpy==1.21.0; python_version<'\"'\"'3.9'\"'\"' and sys_platform == '\"'\"'darwin'\"'\"' and platform_machine == '\"'\"'arm64'\"'\"'' 'numpy>=2.0.0;  python_version>='\"'\"'3.9'\"'\"'' pip 'scikit-build>=0.14.0' setuptools==59.2.0 Check the logs for full command output.\u001b[0m\n",
      "\u001b[33mWARNING: You are using pip version 20.2.3; however, version 24.2 is available.\n",
      "You should consider upgrading via the '/Library/Frameworks/Python.framework/Versions/3.8/bin/python3.8 -m pip install --upgrade pip' command.\u001b[0m\n"
     ]
    }
   ],
   "source": [
    "!git clone https://github.com/CASIA-IVA-Lab/FastSAM.git\n",
    "!pip3 install -r FastSAM/requirements.txt"
   ]
  },
  {
   "cell_type": "code",
   "execution_count": 14,
   "metadata": {},
   "outputs": [],
   "source": [
    "FAST_SAM_CHECKPOINT_PATH = f\"/Users/weimingchin/Desktop/term 7/Spatial Design/spatialworld/image-segmentation/FastSAM.pt\"\n"
   ]
  },
  {
   "cell_type": "code",
   "execution_count": 8,
   "metadata": {},
   "outputs": [
    {
     "name": "stdout",
     "output_type": "stream",
     "text": [
      "HOME: /Users/weimingchin/Desktop/term 7/Spatial Design/spatialworld/image-segmentation/FastSAM\n"
     ]
    }
   ],
   "source": [
    "import os\n",
    "HOME = os.getcwd()\n",
    "print(\"HOME:\", HOME)"
   ]
  },
  {
   "cell_type": "code",
   "execution_count": 10,
   "metadata": {},
   "outputs": [
    {
     "name": "stdout",
     "output_type": "stream",
     "text": [
      "/Users/weimingchin/Desktop/term 7/Spatial Design/spatialworld/image-segmentation/FastSAM\n"
     ]
    }
   ],
   "source": [
    "%cd {HOME}\n",
    "\n",
    "import os\n",
    "import cv2\n",
    "import torch\n",
    "import roboflow\n",
    "import base64\n",
    "import matplotlib.pyplot as plt\n",
    "\n",
    "import supervision as sv\n",
    "import numpy as np\n",
    "\n",
    "from roboflow import Roboflow\n",
    "from fastsam import FastSAM, FastSAMPrompt\n",
    "from segment_anything import sam_model_registry, SamAutomaticMaskGenerator, SamPredictor"
   ]
  },
  {
   "cell_type": "code",
   "execution_count": 15,
   "metadata": {},
   "outputs": [
    {
     "name": "stdout",
     "output_type": "stream",
     "text": [
      "DEVICE = cpu\n"
     ]
    }
   ],
   "source": [
    "DEVICE = torch.device('cuda:0' if torch.cuda.is_available() else 'cpu')\n",
    "print(f\"DEVICE = {DEVICE}\")\n",
    "fast_sam = FastSAM(FAST_SAM_CHECKPOINT_PATH)"
   ]
  },
  {
   "cell_type": "code",
   "execution_count": 16,
   "metadata": {},
   "outputs": [],
   "source": [
    "IMAGE_PATH = f\"/Users/weimingchin/Desktop/term 7/Spatial Design/spatialworld/image-segmentation/example.jpg\""
   ]
  },
  {
   "cell_type": "code",
   "execution_count": 25,
   "metadata": {},
   "outputs": [],
   "source": [
    "point = [1000, 1000]"
   ]
  },
  {
   "cell_type": "code",
   "execution_count": 26,
   "metadata": {},
   "outputs": [
    {
     "name": "stderr",
     "output_type": "stream",
     "text": [
      "\n",
      "image 1/1 /Users/weimingchin/Desktop/term 7/Spatial Design/spatialworld/image-segmentation/example.jpg: 1024x1024 110 objects, 3457.2ms\n",
      "Speed: 3.8ms preprocess, 3457.2ms inference, 499.9ms postprocess per image at shape (1, 3, 1024, 1024)\n"
     ]
    }
   ],
   "source": [
    "results = fast_sam(\n",
    "    source=IMAGE_PATH,\n",
    "    device=DEVICE,\n",
    "    retina_masks=True,\n",
    "    imgsz=1024,\n",
    "    conf=0.5,\n",
    "    iou=0.6)\n",
    "prompt_process = FastSAMPrompt(IMAGE_PATH, results, device=DEVICE)\n",
    "masks = prompt_process.point_prompt(points=[point], pointlabel=[1])\n",
    "prompt_process.plot(\n",
    "    annotations=masks,\n",
    "    output_path=\"/Users/weimingchin/Desktop/term 7/Spatial Design/spatialworld/image-segmentation/output/output_2.png\"\n",
    ")"
   ]
  },
  {
   "cell_type": "code",
   "execution_count": 24,
   "metadata": {},
   "outputs": [
    {
     "name": "stdout",
     "output_type": "stream",
     "text": [
      "[[[False False False ... False False False]\n",
      "  [False False False ... False False False]\n",
      "  [False False False ... False False False]\n",
      "  ...\n",
      "  [False False False ... False False False]\n",
      "  [False False False ... False False False]\n",
      "  [False False False ... False False False]]]\n"
     ]
    }
   ],
   "source": [
    "print(masks)"
   ]
  }
 ],
 "metadata": {
  "kernelspec": {
   "display_name": "Python 3",
   "language": "python",
   "name": "python3"
  },
  "language_info": {
   "codemirror_mode": {
    "name": "ipython",
    "version": 3
   },
   "file_extension": ".py",
   "mimetype": "text/x-python",
   "name": "python",
   "nbconvert_exporter": "python",
   "pygments_lexer": "ipython3",
   "version": "3.11.2"
  }
 },
 "nbformat": 4,
 "nbformat_minor": 2
}
