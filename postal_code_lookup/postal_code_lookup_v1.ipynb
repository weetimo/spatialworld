{
 "cells": [
  {
   "cell_type": "code",
   "execution_count": 2,
   "metadata": {},
   "outputs": [
    {
     "name": "stdout",
     "output_type": "stream",
     "text": [
      "Latitude: 1.37269, Longitude: 103.95551\n"
     ]
    }
   ],
   "source": [
    "def get_coordinates(postal_code):\n",
    "    auth_key = \"670479767530035704815x1681\"\n",
    "    url = f\"https://geocode.xyz/?locate={postal_code}&country=SG&auth={auth_key}&geoit=json\"\n",
    "    \n",
    "    try:\n",
    "        response = requests.get(url)\n",
    "        data = response.json()\n",
    "        \n",
    "        # Extract latitude and longitude\n",
    "        latitude = float(data['latt'])\n",
    "        longitude = float(data['longt'])\n",
    "        \n",
    "        return latitude, longitude\n",
    "    except Exception as e:\n",
    "        print(f\"Error: {e}\")\n",
    "        return None\n",
    "\n",
    "# Example usage\n",
    "if __name__ == \"__main__\":\n",
    "    coords = get_coordinates(\"510413\")\n",
    "    if coords:\n",
    "        lat, lon = coords\n",
    "        print(f\"Latitude: {lat}, Longitude: {lon}\")"
   ]
  },
  {
   "cell_type": "code",
   "execution_count": 6,
   "metadata": {},
   "outputs": [
    {
     "name": "stdout",
     "output_type": "stream",
     "text": [
      "Time taken: 0.0 seconds\n",
      "Distance: 3635 meters\n"
     ]
    }
   ],
   "source": [
    "import time\n",
    "\n",
    "def get_distance_to_target(target_postal_code, user_postal_code):\n",
    "    target_coords = get_coordinates(target_postal_code)\n",
    "    user_coords = get_coordinates(user_postal_code)\n",
    "    \n",
    "    if target_coords and user_coords:\n",
    "        target_lat, target_lon = target_coords\n",
    "        user_lat, user_lon = user_coords\n",
    "        from math import sin, cos, sqrt, atan2, radians\n",
    "        \n",
    "        # Approximate radius of earth in meters\n",
    "        R = 6371000\n",
    "        \n",
    "        # Convert coordinates to radians\n",
    "        lat1, lon1 = radians(target_lat), radians(target_lon)\n",
    "        lat2, lon2 = radians(user_lat), radians(user_lon)\n",
    "        \n",
    "        # Differences in coordinates\n",
    "        dlat = lat2 - lat1\n",
    "        dlon = lon2 - lon1\n",
    "        \n",
    "        # Haversine formula\n",
    "        a = sin(dlat/2)**2 + cos(lat1) * cos(lat2) * sin(dlon/2)**2\n",
    "        c = 2 * atan2(sqrt(a), sqrt(1-a))\n",
    "        distance = int(R * c)  # Convert to integer meters\n",
    "        return distance\n",
    "    else:\n",
    "        print(\"get_distance_to_target function failed: Failed to retrieve coordinates\")\n",
    "        return None\n",
    "\n",
    "# Example usage\n",
    "if __name__ == \"__main__\":\n",
    "    distance = get_distance_to_target(\"510413\", \"487372\")\n",
    "    print(f\"Distance: {distance} meters\")"
   ]
  }
 ],
 "metadata": {
  "kernelspec": {
   "display_name": "aisg_env",
   "language": "python",
   "name": "python3"
  },
  "language_info": {
   "codemirror_mode": {
    "name": "ipython",
    "version": 3
   },
   "file_extension": ".py",
   "mimetype": "text/x-python",
   "name": "python",
   "nbconvert_exporter": "python",
   "pygments_lexer": "ipython3",
   "version": "3.9.20"
  }
 },
 "nbformat": 4,
 "nbformat_minor": 2
}
